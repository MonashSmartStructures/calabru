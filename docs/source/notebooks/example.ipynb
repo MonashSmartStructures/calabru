{
 "cells": [
  {
   "cell_type": "markdown",
   "id": "2ebd6341-6ab2-4dbe-8fd2-fe235520af5f",
   "metadata": {},
   "source": [
    "# Examples"
   ]
  },
  {
   "cell_type": "markdown",
   "id": "66ec8f0a-120e-4de7-85dc-69e7c1f84412",
   "metadata": {},
   "source": [
    "Here are a few more examples of `calabru`"
   ]
  },
  {
   "cell_type": "markdown",
   "id": "4f64cddc-6ae4-41d1-b2ba-da14dc589fcc",
   "metadata": {},
   "source": [
    "## Example 1 - Exploring input options"
   ]
  },
  {
   "cell_type": "code",
   "execution_count": null,
   "id": "12c1c381-3c9d-434c-b923-bc3dbfb26285",
   "metadata": {},
   "outputs": [],
   "source": []
  },
  {
   "cell_type": "code",
   "execution_count": null,
   "id": "eb813bc2-d3d1-4ce1-b27b-1199bf646a1e",
   "metadata": {},
   "outputs": [],
   "source": []
  },
  {
   "cell_type": "markdown",
   "id": "c22aa21d-0366-4a04-90ab-50b7603c91ff",
   "metadata": {},
   "source": [
    "## Example 2 - Grillage model problem in ospgrillage\n",
    "\n",
    "We have a single-span bridge we'd like to use to determine the bridge load effects due to an imposed load. In turn, a grillage model of a single-span bridge created using the `ospgrillage` package. \n"
   ]
  },
  {
   "cell_type": "code",
   "execution_count": null,
   "id": "371f2a7d-87e4-4e89-b8f0-ec966ac57639",
   "metadata": {},
   "outputs": [],
   "source": [
    "display.Image(\"./images/intro_ex_1.png\",width=800)"
   ]
  },
  {
   "cell_type": "markdown",
   "id": "7b01d2b4-86bc-4e3c-835a-e4bdb76ebc82",
   "metadata": {},
   "source": [
    "Next, we want to update the model using experimental measurements of the bridge deflections. The measurement is defined as follows:\n"
   ]
  },
  {
   "cell_type": "code",
   "execution_count": null,
   "id": "f33e36ab-5091-4a91-b434-21fb771e9d37",
   "metadata": {},
   "outputs": [],
   "source": [
    "target_deflections = [[0.0, 5.24e-05, 9.98e-05, 0.000136, 0.000155,0.0001558, 0.000136, 9.98e-05, 5.24e-05,0.0]]"
   ]
  },
  {
   "cell_type": "markdown",
   "id": "d787bca0-bd20-49cc-bb8d-66c7cb26d1dc",
   "metadata": {},
   "source": [
    "We want to update the stiffness of the girders (`I`) in the model to update the model:"
   ]
  },
  {
   "cell_type": "code",
   "execution_count": null,
   "id": "50e8038b-93f7-43e3-8e7b-fa5b91f1f9ab",
   "metadata": {},
   "outputs": [],
   "source": [
    "I_start = [0.2] # m4"
   ]
  },
  {
   "cell_type": "code",
   "execution_count": null,
   "id": "7ba40eb6-316e-4d56-881b-3c87c93a234a",
   "metadata": {},
   "outputs": [],
   "source": [
    "First we need to structure the model's generation and analysis script into a function handler (denoted as `main()`) with the following properties:\n",
    "\n",
    "1. `main()` takes in `I_start` as an argument.\n",
    "2. `main()` returns a list of the corresponding measurables of `target_deflections` from the model."
   ]
  },
  {
   "cell_type": "code",
   "execution_count": null,
   "id": "989b4a2c-4fd5-4111-b9a7-b9dce37ec2b6",
   "metadata": {},
   "outputs": [],
   "source": [
    "def beam_with_patch_load_including_deflected_shape_output(p_matrix: list):\n",
    "    # sort parameter variable\n",
    "    #P = p_matrix[0]\n",
    "    P = 1000\n",
    "    Iz = p_matrix[0]\n",
    "\n",
    "    # Adopted units: N and m\n",
    "    kilo = 1e3\n",
    "    milli = 1e-3\n",
    "    N = 1\n",
    "    m = 1\n",
    "    mm = milli * m\n",
    "    m2 = m ** 2\n",
    "    m3 = m ** 3\n",
    "    m4 = m ** 4\n",
    "    kN = kilo * N\n",
    "    MPa = N / ((mm) ** 2)\n",
    "    GPa = kilo * MPa\n",
    "\n",
    "    # parameters of bridge grillage\n",
    "    L = 10 * m  # span\n",
    "    w = 5 * m  # width\n",
    "    n_l = 7  # number of longitudinal members\n",
    "    n_t = 10  # number of transverse members\n",
    "    edge_dist = 1 * m  # distance between edge beam and first exterior beam\n",
    "    ext_to_int_dist = (\n",
    "        2.2775 * m\n",
    "    )  # distance between first exterior beam and first interior beam\n",
    "    angle = 0  # skew angle\n",
    "    mesh_type = \"Oblique\"\n",
    "\n",
    "    # define material\n",
    "    concrete = og.create_material(\n",
    "        material=\"concrete\", code=\"AS5100-2017\", grade=\"65MPa\"\n",
    "    )\n",
    "\n",
    "    # define sections (parameters from LUSAS model)\n",
    "    edge_longitudinal_section = og.create_section(\n",
    "        A=0.934 * m2,\n",
    "        J=0.1857 * m3,\n",
    "        Iz=0.3478 * m4,\n",
    "        Iy=0.213602 * m4,\n",
    "        Az=0.444795 * m2,\n",
    "        Ay=0.258704 * m2,\n",
    "    )\n",
    "\n",
    "    longitudinal_section = og.create_section(\n",
    "        A=1.025 * m2,\n",
    "        J=0.1878 * m3,\n",
    "        Iz=Iz * m4,\n",
    "        Iy=0.113887e-3 * m4,\n",
    "        Az=0.0371929 * m2,\n",
    "        Ay=0.0371902 * m2,\n",
    "    )\n",
    "\n",
    "    transverse_section = og.create_section(\n",
    "        A=0.504 * m2,\n",
    "        J=5.22303e-3 * m3,\n",
    "        Iy=0.32928 * m4,\n",
    "        Iz=1.3608e-3 * m4,\n",
    "        Ay=0.42 * m2,\n",
    "        Az=0.42 * m2,\n",
    "    )\n",
    "\n",
    "    end_transverse_section = og.create_section(\n",
    "        A=0.504 / 2 * m2,\n",
    "        J=2.5012e-3 * m3,\n",
    "        Iy=0.04116 * m4,\n",
    "        Iz=0.6804e-3 * m4,\n",
    "        Ay=0.21 * m2,\n",
    "        Az=0.21 * m2,\n",
    "    )\n",
    "\n",
    "    # define grillage members\n",
    "    longitudinal_beam = og.create_member(\n",
    "        section=longitudinal_section, material=concrete\n",
    "    )\n",
    "    edge_longitudinal_beam = og.create_member(\n",
    "        section=edge_longitudinal_section, material=concrete\n",
    "    )\n",
    "    transverse_slab = og.create_member(section=transverse_section, material=concrete)\n",
    "    end_transverse_slab = og.create_member(\n",
    "        section=end_transverse_section, material=concrete\n",
    "    )\n",
    "\n",
    "    # create grillage\n",
    "    simple_bridge = og.create_grillage(\n",
    "        bridge_name=\"simple_bridge\",\n",
    "        long_dim=L,\n",
    "        width=w,\n",
    "        skew=angle,\n",
    "        num_long_grid=n_l,\n",
    "        num_trans_grid=n_t,\n",
    "        edge_beam_dist=edge_dist,\n",
    "        mesh_type=mesh_type,\n",
    "    )\n",
    "\n",
    "    simple_bridge.set_member(longitudinal_beam, member=\"interior_main_beam\")\n",
    "    simple_bridge.set_member(longitudinal_beam, member=\"exterior_main_beam_1\")\n",
    "    simple_bridge.set_member(longitudinal_beam, member=\"exterior_main_beam_2\")\n",
    "    simple_bridge.set_member(edge_longitudinal_beam, member=\"edge_beam\")\n",
    "    simple_bridge.set_member(transverse_slab, member=\"transverse_slab\")\n",
    "    simple_bridge.set_member(end_transverse_slab, member=\"start_edge\")\n",
    "    simple_bridge.set_member(end_transverse_slab, member=\"end_edge\")\n",
    "    simple_bridge.create_osp_model(pyfile=False)\n",
    "\n",
    "    # add load case\n",
    "    # Patch load over entire bridge deck (P is kN/m2)\n",
    "    P = P * kN / m2  # magnitude of patch vertex\n",
    "    patch_point_1 = og.create_load_vertex(x=0, z=0, p=P)\n",
    "    patch_point_2 = og.create_load_vertex(x=L, z=0, p=P)\n",
    "    patch_point_3 = og.create_load_vertex(x=L, z=w, p=P)\n",
    "    patch_point_4 = og.create_load_vertex(x=0, z=w, p=P)\n",
    "    test_patch_load = og.create_load(\n",
    "        loadtype=\"patch\",\n",
    "        name=\"Test Load\",\n",
    "        point1=patch_point_1,\n",
    "        point2=patch_point_2,\n",
    "        point3=patch_point_3,\n",
    "        point4=patch_point_4,\n",
    "    )\n",
    "\n",
    "    test_point_load = og.create_load(\n",
    "        loadtype=\"point\",\n",
    "        name=\"Test Load\",\n",
    "        point1=og.create_load_vertex(x=L / 2, z=w / 2, p=P),\n",
    "    )\n",
    "\n",
    "    # Create load case, add loads, and assign\n",
    "    patch_case = og.create_load_case(name=\"test patch load case\")\n",
    "    patch_case.add_load(test_patch_load)\n",
    "    point_case = og.create_load_case(name=\"test point load case\")\n",
    "    point_case.add_load(test_point_load)\n",
    "    # sn8474.add_load_case(patch_case)\n",
    "    simple_bridge.add_load_case(point_case)\n",
    "\n",
    "    simple_bridge.analyze()\n",
    "    results = simple_bridge.get_results()\n",
    "\n",
    "    # arbitrary force components\n",
    "    r_mat = [[og.ops.nodeDisp(n)[1] for n in [2,9,16,23,30,37,44,51,58,65]]]\n",
    "    #og.ops.eleForce(25)[1],\n",
    "    return r_mat"
   ]
  }
 ],
 "metadata": {
  "kernelspec": {
   "display_name": "Python 3 (ipykernel)",
   "language": "python",
   "name": "python3"
  },
  "language_info": {
   "codemirror_mode": {
    "name": "ipython",
    "version": 3
   },
   "file_extension": ".py",
   "mimetype": "text/x-python",
   "name": "python",
   "nbconvert_exporter": "python",
   "pygments_lexer": "ipython3",
   "version": "3.10.6"
  }
 },
 "nbformat": 4,
 "nbformat_minor": 5
}
