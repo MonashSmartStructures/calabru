{
 "cells": [
  {
   "cell_type": "markdown",
   "id": "2c4f0084-a068-4b07-8aa4-09e9751a01ae",
   "metadata": {},
   "source": [
    "## Introduction"
   ]
  },
  {
   "cell_type": "markdown",
   "id": "b1795bec-59ca-4d57-9f32-251fa0286815",
   "metadata": {},
   "source": [
    "`calabru` is a model calibration package.\n",
    "\n",
    "The following example will demonstrate the basic workflow of `calabru`. \n",
    "\n",
    "Let's consider a simple beam model created in Python using PyCBA(https://ccaprani.github.io/pycba/notebooks/intro.html) module. We begin with some necessary imports:"
   ]
  },
  {
   "cell_type": "code",
   "execution_count": 2,
   "id": "364d1136-cc11-4600-95e2-db29647c8e9b",
   "metadata": {},
   "outputs": [],
   "source": [
    "import calabru as clb # calabru package\n",
    "import numpy as np # for numerical arrays\n",
    "import matplotlib.pyplot as plt # for plotting\n",
    "from IPython import display # For images in notebook\n",
    "import pycba as cba # for creating beam model\n",
    "%matplotlib inline "
   ]
  },
  {
   "cell_type": "markdown",
   "id": "d7277f01-1430-4e98-ba95-b879f31698d6",
   "metadata": {
    "tags": []
   },
   "source": [
    "The beam model represents a two span bridge, with a UDL of 20 kN/m acting on each span."
   ]
  },
  {
   "cell_type": "code",
   "execution_count": null,
   "id": "4f96d5a8-37d1-4ea7-9259-5343db2dcb08",
   "metadata": {},
   "outputs": [],
   "source": [
    "display.Image(\"./images/intro_cba_1.png\",width=800)"
   ]
  },
  {
   "cell_type": "markdown",
   "id": "26b8b162-1700-434e-b179-3382f4b33e4b",
   "metadata": {},
   "source": [
    "For the calibration problem, we wish to update the model such that the simulated deflection at midspan of Span 1, when subjected to the 20kN/m UDL, matches closely with a known target measurement."
   ]
  },
  {
   "cell_type": "code",
   "execution_count": null,
   "id": "8571941f-6e6b-498d-b4fd-38fbc017aafa",
   "metadata": {},
   "outputs": [],
   "source": [
    "target_deflections = [20] # mm"
   ]
  },
  {
   "cell_type": "markdown",
   "id": "c060215e-42eb-4462-9675-775b5097fbe3",
   "metadata": {},
   "source": [
    "The model is updated by tuning the bending stiffness parameter (EI)."
   ]
  },
  {
   "cell_type": "code",
   "execution_count": null,
   "id": "ecb198ee-06b4-4406-a1cf-05d55ff96ea5",
   "metadata": {},
   "outputs": [],
   "source": [
    "EI_start = [30 e6]"
   ]
  },
  {
   "cell_type": "markdown",
   "id": "d684f592-b1c2-4ed4-bdbf-fb657a624c7c",
   "metadata": {},
   "source": [
    "### Workflow\n",
    "\n",
    "In essence, the `calabru` workflow is as follows:\n",
    "\n",
    "1. Create a function handler for the model that will be updated."
   ]
  },
  {
   "cell_type": "code",
   "execution_count": null,
   "id": "c0f1c3a1-55a7-491b-b42a-35bd461505bf",
   "metadata": {
    "tags": []
   },
   "outputs": [],
   "source": [
    "def create_pycba(parameters):\n",
    "    # init parameters according to PyCBA\n",
    "    EI = paramter[0]\n",
    "    LM = [[1, 1,  20, 0, 0], [2, 1, 20, 0, 0]]\n",
    "    L = [7.5, 7.0]\n",
    "    R = [-1, 0, -1, 0, -1, 0]\n",
    "    \n",
    "    # PyCBA commands\n",
    "    beam_analysis = cba.BeamAnalysis(L, EI, R, LM)\n",
    "    beam_analysis.analyze()\n",
    "    # Optional plotting of results\n",
    "    beam_analysis.plot_results()\n",
    "\n",
    "    deflection_responses = [beam_analysis.beam_results.vRes[1].M.max()]\n",
    "    \n",
    "    return deflection_responses"
   ]
  },
  {
   "cell_type": "markdown",
   "id": "c9bfe312-196b-4b1d-aee4-6a395eb08918",
   "metadata": {
    "tags": []
   },
   "source": [
    "As can be seen, `create_pycba` is a function handler \n",
    "which creates and analyzes the PyCBA beam model. The function handler must have the following feature:\n",
    "- Updating parameters as a list/array.\n",
    "- returns the model output that corresponds to the target measurements as a list/array.\n",
    "\n",
    "For this example, `parameters` is the list input argument of the bending stiffness while `deflection_responses` is the list of deflection output from the beam model."
   ]
  },
  {
   "cell_type": "markdown",
   "id": "95db8404-a206-40c2-8cfd-1d8657dfb5c3",
   "metadata": {},
   "source": [
    "2. Invoke the `ModelUpdating` class."
   ]
  },
  {
   "cell_type": "code",
   "execution_count": null,
   "id": "85394110-6285-4855-87dd-3fe02e5b6d1c",
   "metadata": {},
   "outputs": [],
   "source": [
    "update_process = clb.ModelUpdating(\n",
    "    function_handle=create_pycba, \n",
    "    param_list=EI_start,\n",
    "    target_list=target_deflections\n",
    ")"
   ]
  },
  {
   "cell_type": "markdown",
   "id": "b5128219-0b5f-4e9f-906f-4ea19a6b0de9",
   "metadata": {},
   "source": [
    "3. Run the class function to update model."
   ]
  },
  {
   "cell_type": "code",
   "execution_count": null,
   "id": "52c80014-de21-40af-9539-b92aa6767144",
   "metadata": {},
   "outputs": [],
   "source": [
    "update_process.update_model()"
   ]
  },
  {
   "cell_type": "markdown",
   "id": "20fb7317-c813-44f6-816a-f66631bae7bb",
   "metadata": {},
   "source": [
    "For results, we can directly access the class variables of `update_process` (primarily list/arrays). As such, the parameters and residuls can be use for post-processing later on (e.g., plotting)."
   ]
  },
  {
   "cell_type": "code",
   "execution_count": null,
   "id": "7b798980-f20d-4fb0-a9bc-05d75212f3d5",
   "metadata": {
    "tags": []
   },
   "outputs": [],
   "source": [
    "# for update history of parameters\n",
    "update_process.param_update_history \n",
    "# for residues\n",
    "update_process.residue_history \n",
    "# for history of model differences\n",
    "update_process.resp_diff_history"
   ]
  },
  {
   "cell_type": "markdown",
   "id": "9a2cb71d-3a71-40ac-9060-700e3e6c77b5",
   "metadata": {},
   "source": [
    "The typical outputs from the above command looks something like:"
   ]
  },
  {
   "cell_type": "code",
   "execution_count": null,
   "id": "0002cf7b-0f80-41f5-a2e5-77a76d007382",
   "metadata": {},
   "outputs": [],
   "source": []
  }
 ],
 "metadata": {
  "kernelspec": {
   "display_name": "Python 3 (ipykernel)",
   "language": "python",
   "name": "python3"
  },
  "language_info": {
   "codemirror_mode": {
    "name": "ipython",
    "version": 3
   },
   "file_extension": ".py",
   "mimetype": "text/x-python",
   "name": "python",
   "nbconvert_exporter": "python",
   "pygments_lexer": "ipython3",
   "version": "3.10.6"
  }
 },
 "nbformat": 4,
 "nbformat_minor": 5
}
