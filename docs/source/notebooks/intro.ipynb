{
 "cells": [
  {
   "cell_type": "markdown",
   "id": "2c4f0084-a068-4b07-8aa4-09e9751a01ae",
   "metadata": {},
   "source": [
    "## Introduction"
   ]
  },
  {
   "cell_type": "markdown",
   "id": "b1795bec-59ca-4d57-9f32-251fa0286815",
   "metadata": {},
   "source": [
    "`calabru` is a general model calibration package.\n",
    "\n",
    "The following engineering example will demonstrate the basic usage of `calabru`. \n",
    "\n",
    "Let's consider a simple beam model using PyCBA(https://ccaprani.github.io/pycba/notebooks/intro.html)."
   ]
  },
  {
   "cell_type": "code",
   "execution_count": 2,
   "id": "364d1136-cc11-4600-95e2-db29647c8e9b",
   "metadata": {},
   "outputs": [],
   "source": [
    "# begin with necessary imports\n",
    "import calabru as clb # calabru package\n",
    "import numpy as np # for numerical arrays\n",
    "import matplotlib.pyplot as plt # for plotting\n",
    "from IPython import display # For images in notebook\n",
    "import pycba as cba # numerical framework\n",
    "%matplotlib inline "
   ]
  },
  {
   "cell_type": "markdown",
   "id": "d7277f01-1430-4e98-ba95-b879f31698d6",
   "metadata": {
    "tags": []
   },
   "source": [
    "The beam model is a  a two span beam, with a UDL of 20 kN/m acting on each span"
   ]
  },
  {
   "cell_type": "code",
   "execution_count": null,
   "id": "4f96d5a8-37d1-4ea7-9259-5343db2dcb08",
   "metadata": {},
   "outputs": [],
   "source": [
    "display.Image(\"./images/intro_cba_1.png\",width=800)"
   ]
  },
  {
   "cell_type": "markdown",
   "id": "26b8b162-1700-434e-b179-3382f4b33e4b",
   "metadata": {},
   "source": [
    "For the calibration problem, we will update the model such that the simulated deflection at midspan of Span 1, when subjected to the 20kN/m UDL, matches closely with the following measurements:"
   ]
  },
  {
   "cell_type": "code",
   "execution_count": null,
   "id": "8571941f-6e6b-498d-b4fd-38fbc017aafa",
   "metadata": {},
   "outputs": [],
   "source": [
    "target_deflections = [20] # mm"
   ]
  },
  {
   "cell_type": "markdown",
   "id": "c060215e-42eb-4462-9675-775b5097fbe3",
   "metadata": {},
   "source": [
    "The beam model is to be calibrated by tuning the bending stiffness (EI) parameter as follows:"
   ]
  },
  {
   "cell_type": "code",
   "execution_count": null,
   "id": "ecb198ee-06b4-4406-a1cf-05d55ff96ea5",
   "metadata": {},
   "outputs": [],
   "source": [
    "EI_start = 30 e6 "
   ]
  },
  {
   "cell_type": "code",
   "execution_count": null,
   "id": "8bc60e43-f5bc-45d8-b45d-ced2b3af5ddb",
   "metadata": {},
   "outputs": [],
   "source": [
    "Initially, "
   ]
  },
  {
   "cell_type": "code",
   "execution_count": null,
   "id": "85394110-6285-4855-87dd-3fe02e5b6d1c",
   "metadata": {},
   "outputs": [],
   "source": []
  },
  {
   "cell_type": "code",
   "execution_count": null,
   "id": "26df4f16-0c27-41c9-bfe5-a45570228dfd",
   "metadata": {},
   "outputs": [],
   "source": []
  },
  {
   "cell_type": "code",
   "execution_count": null,
   "id": "52c80014-de21-40af-9539-b92aa6767144",
   "metadata": {},
   "outputs": [],
   "source": []
  },
  {
   "cell_type": "code",
   "execution_count": null,
   "id": "7b798980-f20d-4fb0-a9bc-05d75212f3d5",
   "metadata": {},
   "outputs": [],
   "source": [
    "LM = [[1, 1, p_matrix[0], 0, 0], [2, 1, 20, 0, 0]]\n",
    "    EI = 30 * 600e7 * 1e-6\n",
    "\n",
    "    L = [7.5, 7.0]\n",
    "    R = [-1, 0, -1, 0, -1, 0]\n",
    "\n",
    "    beam_analysis = cba.BeamAnalysis(L, EI, R, LM)\n",
    "    beam_analysis.analyze()\n",
    "    beam_analysis.plot_results()\n",
    "\n",
    "    r_mat = [beam_analysis.beam_results.vRes[1].M.max()]"
   ]
  },
  {
   "cell_type": "code",
   "execution_count": null,
   "id": "78a0f5ac-76f2-47ee-be37-637b0fbed600",
   "metadata": {},
   "outputs": [],
   "source": []
  },
  {
   "cell_type": "code",
   "execution_count": null,
   "id": "03165d11-0184-4246-b257-9656c5cfdad6",
   "metadata": {},
   "outputs": [],
   "source": []
  },
  {
   "cell_type": "code",
   "execution_count": null,
   "id": "f1dd8e0d-bcdc-4128-b7a8-55c9577ddadf",
   "metadata": {},
   "outputs": [],
   "source": []
  }
 ],
 "metadata": {
  "kernelspec": {
   "display_name": "Python 3 (ipykernel)",
   "language": "python",
   "name": "python3"
  },
  "language_info": {
   "codemirror_mode": {
    "name": "ipython",
    "version": 3
   },
   "file_extension": ".py",
   "mimetype": "text/x-python",
   "name": "python",
   "nbconvert_exporter": "python",
   "pygments_lexer": "ipython3",
   "version": "3.10.6"
  }
 },
 "nbformat": 4,
 "nbformat_minor": 5
}
